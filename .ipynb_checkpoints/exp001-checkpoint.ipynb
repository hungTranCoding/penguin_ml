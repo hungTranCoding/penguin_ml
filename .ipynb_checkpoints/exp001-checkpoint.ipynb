{
 "cells": [
  {
   "cell_type": "code",
   "execution_count": 1,
   "id": "2966d392",
   "metadata": {},
   "outputs": [
    {
     "name": "stdout",
     "output_type": "stream",
     "text": [
      "Here are our output variables\n",
      "0    Adelie\n",
      "1    Adelie\n",
      "2    Adelie\n",
      "4    Adelie\n",
      "5    Adelie\n",
      "Name: species, dtype: object\n",
      "Here are our feature variables\n",
      "   bill_length_mm  bill_depth_mm  flipper_length_mm  body_mass_g  \\\n",
      "0            39.1           18.7              181.0       3750.0   \n",
      "1            39.5           17.4              186.0       3800.0   \n",
      "2            40.3           18.0              195.0       3250.0   \n",
      "4            36.7           19.3              193.0       3450.0   \n",
      "5            39.3           20.6              190.0       3650.0   \n",
      "\n",
      "   island_Biscoe  island_Dream  island_Torgersen  sex_female  sex_male  \n",
      "0              0             0                 1           0         1  \n",
      "1              0             0                 1           1         0  \n",
      "2              0             0                 1           1         0  \n",
      "4              0             0                 1           1         0  \n",
      "5              0             0                 1           0         1  \n"
     ]
    }
   ],
   "source": [
    "import pandas as pd\n",
    "\n",
    "penguin_df = pd.read_csv('penguins.csv')\n",
    "penguin_df.dropna(inplace=True)\n",
    "output = penguin_df['species']\n",
    "features = penguin_df[['island', 'bill_length_mm', 'bill_depth_mm','flipper_length_mm', 'body_mass_g', 'sex']]\n",
    "\n",
    "features = pd.get_dummies(features)\n",
    "print('Here are our output variables')\n",
    "print(output.head())\n",
    "print('Here are our feature variables')\n",
    "print(features.head())"
   ]
  },
  {
   "cell_type": "code",
   "execution_count": null,
   "id": "9ce1ceee",
   "metadata": {},
   "outputs": [],
   "source": []
  },
  {
   "cell_type": "code",
   "execution_count": 2,
   "id": "ab1e7b77",
   "metadata": {},
   "outputs": [],
   "source": [
    "penguin_df = pd.read_csv('penguins.csv')\n",
    "penguin_df.dropna(inplace=True)\n",
    "output = penguin_df['species']\n",
    "features = penguin_df[['island', 'bill_length_mm', 'bill_depth_mm','flipper_length_mm', 'body_mass_g', 'sex']]\n"
   ]
  },
  {
   "cell_type": "code",
   "execution_count": 3,
   "id": "0db99f71",
   "metadata": {},
   "outputs": [
    {
     "data": {
      "text/html": [
       "<div>\n",
       "<style scoped>\n",
       "    .dataframe tbody tr th:only-of-type {\n",
       "        vertical-align: middle;\n",
       "    }\n",
       "\n",
       "    .dataframe tbody tr th {\n",
       "        vertical-align: top;\n",
       "    }\n",
       "\n",
       "    .dataframe thead th {\n",
       "        text-align: right;\n",
       "    }\n",
       "</style>\n",
       "<table border=\"1\" class=\"dataframe\">\n",
       "  <thead>\n",
       "    <tr style=\"text-align: right;\">\n",
       "      <th></th>\n",
       "      <th>island</th>\n",
       "      <th>bill_length_mm</th>\n",
       "      <th>bill_depth_mm</th>\n",
       "      <th>flipper_length_mm</th>\n",
       "      <th>body_mass_g</th>\n",
       "      <th>sex</th>\n",
       "    </tr>\n",
       "  </thead>\n",
       "  <tbody>\n",
       "    <tr>\n",
       "      <th>0</th>\n",
       "      <td>Torgersen</td>\n",
       "      <td>39.1</td>\n",
       "      <td>18.7</td>\n",
       "      <td>181.0</td>\n",
       "      <td>3750.0</td>\n",
       "      <td>male</td>\n",
       "    </tr>\n",
       "    <tr>\n",
       "      <th>1</th>\n",
       "      <td>Torgersen</td>\n",
       "      <td>39.5</td>\n",
       "      <td>17.4</td>\n",
       "      <td>186.0</td>\n",
       "      <td>3800.0</td>\n",
       "      <td>female</td>\n",
       "    </tr>\n",
       "    <tr>\n",
       "      <th>2</th>\n",
       "      <td>Torgersen</td>\n",
       "      <td>40.3</td>\n",
       "      <td>18.0</td>\n",
       "      <td>195.0</td>\n",
       "      <td>3250.0</td>\n",
       "      <td>female</td>\n",
       "    </tr>\n",
       "    <tr>\n",
       "      <th>4</th>\n",
       "      <td>Torgersen</td>\n",
       "      <td>36.7</td>\n",
       "      <td>19.3</td>\n",
       "      <td>193.0</td>\n",
       "      <td>3450.0</td>\n",
       "      <td>female</td>\n",
       "    </tr>\n",
       "    <tr>\n",
       "      <th>5</th>\n",
       "      <td>Torgersen</td>\n",
       "      <td>39.3</td>\n",
       "      <td>20.6</td>\n",
       "      <td>190.0</td>\n",
       "      <td>3650.0</td>\n",
       "      <td>male</td>\n",
       "    </tr>\n",
       "  </tbody>\n",
       "</table>\n",
       "</div>"
      ],
      "text/plain": [
       "      island  bill_length_mm  bill_depth_mm  flipper_length_mm  body_mass_g  \\\n",
       "0  Torgersen            39.1           18.7              181.0       3750.0   \n",
       "1  Torgersen            39.5           17.4              186.0       3800.0   \n",
       "2  Torgersen            40.3           18.0              195.0       3250.0   \n",
       "4  Torgersen            36.7           19.3              193.0       3450.0   \n",
       "5  Torgersen            39.3           20.6              190.0       3650.0   \n",
       "\n",
       "      sex  \n",
       "0    male  \n",
       "1  female  \n",
       "2  female  \n",
       "4  female  \n",
       "5    male  "
      ]
     },
     "execution_count": 3,
     "metadata": {},
     "output_type": "execute_result"
    }
   ],
   "source": [
    "features.head()"
   ]
  },
  {
   "cell_type": "code",
   "execution_count": null,
   "id": "14674096",
   "metadata": {},
   "outputs": [],
   "source": []
  },
  {
   "cell_type": "code",
   "execution_count": 5,
   "id": "7a54e3e6",
   "metadata": {},
   "outputs": [
    {
     "name": "stdout",
     "output_type": "stream",
     "text": [
      "Our accuracy score for this model is 0.9700374531835206\n"
     ]
    }
   ],
   "source": [
    "import pandas as pd\n",
    "from sklearn.metrics import accuracy_score\n",
    "from sklearn.ensemble import RandomForestClassifier\n",
    "from sklearn.model_selection import train_test_split\n",
    "\n",
    "penguin_df = pd.read_csv('penguins.csv')\n",
    "penguin_df.dropna(inplace=True)\n",
    "output = penguin_df['species']\n",
    "features = penguin_df[['island', 'bill_length_mm', 'bill_depth_mm','flipper_length_mm', 'body_mass_g','sex']]\n",
    "features = pd.get_dummies(features)\n",
    "output, uniques = pd.factorize(output)\n",
    "\n",
    "x_train, x_test, y_train, y_test = train_test_split(features, output, test_size=.8)\n",
    "rfc = RandomForestClassifier(random_state=15)\n",
    "rfc.fit(x_train, y_train)\n",
    "y_pred = rfc.predict(x_test)\n",
    "score = accuracy_score(y_pred, y_test)\n",
    "print('Our accuracy score for this model is {}'.format(score))"
   ]
  },
  {
   "cell_type": "code",
   "execution_count": 6,
   "id": "f11e7a10",
   "metadata": {},
   "outputs": [
    {
     "data": {
      "text/plain": [
       "numpy.ndarray"
      ]
     },
     "execution_count": 6,
     "metadata": {},
     "output_type": "execute_result"
    }
   ],
   "source": [
    "type(y_pred)"
   ]
  },
  {
   "cell_type": "code",
   "execution_count": 7,
   "id": "f8a252f4",
   "metadata": {},
   "outputs": [
    {
     "data": {
      "text/plain": [
       "array([1, 0, 2, 1, 0, 1, 1, 0, 1, 2, 2, 0, 0, 1, 1, 0, 0, 1, 2, 2, 1, 0,\n",
       "       0, 0, 2, 1, 0, 1, 1, 0, 0, 0, 0, 0, 0, 1, 0, 2, 1, 1, 0, 0, 0, 0,\n",
       "       0, 0, 0, 2, 0, 0, 0, 1, 1, 0, 0, 2, 0, 0, 2, 0, 2, 1, 1, 1, 1, 1,\n",
       "       2, 0, 2, 0, 2, 0, 1, 0, 0, 1, 0, 0, 0, 1, 0, 2, 2, 0, 1, 1, 0, 0,\n",
       "       0, 1, 2, 1, 0, 2, 1, 2, 1, 1, 0, 1, 2, 1, 1, 2, 2, 2, 1, 1, 2, 0,\n",
       "       0, 0, 1, 0, 0, 1, 0, 0, 0, 0, 0, 0, 1, 0, 0, 0, 0, 1, 0, 1, 1, 1,\n",
       "       0, 1, 0, 2, 1, 1, 0, 2, 1, 1, 0, 0, 1, 2, 0, 1, 0, 2, 1, 0, 2, 0,\n",
       "       0, 0, 2, 2, 1, 1, 1, 0, 0, 2, 1, 1, 1, 0, 2, 2, 0, 1, 0, 0, 1, 0,\n",
       "       1, 0, 2, 2, 2, 0, 1, 1, 1, 1, 1, 0, 0, 1, 1, 1, 1, 0, 0, 1, 2, 1,\n",
       "       1, 0, 0, 2, 1, 0, 0, 2, 0, 1, 1, 2, 0, 0, 0, 1, 1, 1, 1, 0, 0, 0,\n",
       "       2, 1, 0, 0, 1, 0, 0, 1, 1, 0, 1, 1, 2, 1, 0, 1, 1, 0, 1, 1, 0, 0,\n",
       "       0, 2, 0, 2, 0, 0, 2, 1, 2, 1, 2, 0, 1, 1, 2, 1, 0, 1, 0, 0, 0, 0,\n",
       "       2, 0, 1])"
      ]
     },
     "execution_count": 7,
     "metadata": {},
     "output_type": "execute_result"
    }
   ],
   "source": [
    "y_pred"
   ]
  },
  {
   "cell_type": "code",
   "execution_count": 8,
   "id": "74ac889a",
   "metadata": {},
   "outputs": [
    {
     "name": "stdout",
     "output_type": "stream",
     "text": [
      "Our accuracy score for this model is 0.9550561797752809\n"
     ]
    }
   ],
   "source": [
    "import pandas as pd\n",
    "from sklearn.metrics import accuracy_score\n",
    "from sklearn.ensemble import RandomForestClassifier\n",
    "from sklearn.model_selection import train_test_split\n",
    "import pickle\n",
    "\n",
    "penguin_df = pd.read_csv('penguins.csv')\n",
    "penguin_df.dropna(inplace=True)\n",
    "output = penguin_df['species']\n",
    "features = penguin_df[['island', 'bill_length_mm', 'bill_depth_mm','flipper_length_mm', 'body_mass_g','sex']]\n",
    "features = pd.get_dummies(features)\n",
    "output, uniques = pd.factorize(output)\n",
    "\n",
    "x_train, x_test, y_train, y_test = train_test_split(features, output, test_size=.8)\n",
    "\n",
    "rfc = RandomForestClassifier(random_state=15)\n",
    "rfc.fit(x_train, y_train)\n",
    "y_pred = rfc.predict(x_test)\n",
    "score = accuracy_score(y_pred, y_test)\n",
    "print('Our accuracy score for this model is {}'.format(score))\n",
    "\n",
    "\n",
    "rf_pickle = open('random_forest_penguin.pickle', 'wb')\n",
    "pickle.dump(rfc, rf_pickle)\n",
    "rf_pickle.close()\n",
    "output_pickle = open('output_penguin.pickle', 'wb')\n",
    "pickle.dump(uniques, output_pickle)\n",
    "output_pickle.close()"
   ]
  },
  {
   "cell_type": "code",
   "execution_count": 16,
   "id": "b240c81f",
   "metadata": {},
   "outputs": [],
   "source": [
    "#x_test"
   ]
  },
  {
   "cell_type": "code",
   "execution_count": 17,
   "id": "46ba9193",
   "metadata": {},
   "outputs": [
    {
     "data": {
      "text/plain": [
       "Index(['Adelie', 'Gentoo', 'Chinstrap'], dtype='object')"
      ]
     },
     "execution_count": 17,
     "metadata": {},
     "output_type": "execute_result"
    }
   ],
   "source": [
    "uniques"
   ]
  },
  {
   "cell_type": "code",
   "execution_count": null,
   "id": "d3e54bc3",
   "metadata": {},
   "outputs": [],
   "source": []
  },
  {
   "cell_type": "code",
   "execution_count": 11,
   "id": "c250edbb",
   "metadata": {},
   "outputs": [
    {
     "name": "stderr",
     "output_type": "stream",
     "text": [
      "2022-02-16 11:09:49.584 \n",
      "  \u001b[33m\u001b[1mWarning:\u001b[0m to view this Streamlit app on a browser, run it with the following\n",
      "  command:\n",
      "\n",
      "    streamlit run /home/hung_gamble/miniconda3/envs/HungV1/lib/python3.7/site-packages/ipykernel_launcher.py [ARGUMENTS]\n"
     ]
    }
   ],
   "source": [
    "import streamlit as st\n",
    "import pickle\n",
    "\n",
    "st.title('Penguin Classifier')\n",
    "st.write(\"This app uses 6 inputs to predict the species of penguin using\" \"a model built on the Palmer's Penguin's dataset. Use the form below\"\" to get started!\")\n",
    "rf_pickle = open('random_forest_penguin.pickle', 'rb')\n",
    "map_pickle = open('output_penguin.pickle', 'rb')\n",
    "rfc = pickle.load(rf_pickle)\n",
    "unique_penguin_mapping = pickle.load(map_pickle)\n",
    "rf_pickle.close()\n",
    "map_pickle.close()"
   ]
  },
  {
   "cell_type": "code",
   "execution_count": 12,
   "id": "0fcebba1",
   "metadata": {},
   "outputs": [
    {
     "data": {
      "text/plain": [
       "sklearn.ensemble._forest.RandomForestClassifier"
      ]
     },
     "execution_count": 12,
     "metadata": {},
     "output_type": "execute_result"
    }
   ],
   "source": [
    "type(rfc)"
   ]
  },
  {
   "cell_type": "code",
   "execution_count": 13,
   "id": "57e504bb",
   "metadata": {},
   "outputs": [
    {
     "data": {
      "text/plain": [
       "pandas.core.indexes.base.Index"
      ]
     },
     "execution_count": 13,
     "metadata": {},
     "output_type": "execute_result"
    }
   ],
   "source": [
    "type(unique_penguin_mapping)"
   ]
  },
  {
   "cell_type": "code",
   "execution_count": 15,
   "id": "d9fa541f",
   "metadata": {},
   "outputs": [
    {
     "data": {
      "text/plain": [
       "'Adelie'"
      ]
     },
     "execution_count": 15,
     "metadata": {},
     "output_type": "execute_result"
    }
   ],
   "source": [
    "unique_penguin_mapping[0]"
   ]
  },
  {
   "cell_type": "code",
   "execution_count": null,
   "id": "987a2226",
   "metadata": {},
   "outputs": [],
   "source": [
    "import pandas as pd\n",
    "from sklearn.metrics import accuracy_score\n",
    "from sklearn.ensemble import RandomForestClassifier\n",
    "from sklearn.model_selection import train_test_split\n",
    "import pickle\n",
    "\n",
    "penguin_df = pd.read_csv('penguins.csv')\n",
    "penguin_df.dropna(inplace=True)\n",
    "output = penguin_df['species']\n",
    "features = penguin_df[['island', 'bill_length_mm', 'bill_depth_mm','flipper_length_mm', 'body_mass_g','sex']]\n",
    "features = pd.get_dummies(features)\n",
    "output, uniques = pd.factorize(output)\n",
    "\n",
    "x_train, x_test, y_train, y_test = train_test_split(features, output, test_size=.8)\n",
    "rfc = RandomForestClassifier(random_state=15)\n",
    "rfc.fit(x_train, y_train)\n",
    "y_pred = rfc.predict(x_test)\n",
    "score = accuracy_score(y_pred, y_test)\n",
    "print('Our accuracy score for this model is {}'.format(score))\n",
    "rf_pickle = open('random_forest_penguin.pickle', 'wb')\n",
    "\n",
    "\n",
    "\n"
   ]
  }
 ],
 "metadata": {
  "kernelspec": {
   "display_name": "Python 3 (ipykernel)",
   "language": "python",
   "name": "python3"
  },
  "language_info": {
   "codemirror_mode": {
    "name": "ipython",
    "version": 3
   },
   "file_extension": ".py",
   "mimetype": "text/x-python",
   "name": "python",
   "nbconvert_exporter": "python",
   "pygments_lexer": "ipython3",
   "version": "3.7.11"
  }
 },
 "nbformat": 4,
 "nbformat_minor": 5
}
